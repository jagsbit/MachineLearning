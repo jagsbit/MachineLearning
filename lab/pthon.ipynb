{
 "cells": [
  {
   "cell_type": "markdown",
   "metadata": {},
   "source": [
    "## keywords in python"
   ]
  },
  {
   "cell_type": "code",
   "execution_count": 3,
   "metadata": {},
   "outputs": [
    {
     "name": "stdout",
     "output_type": "stream",
     "text": [
      "['False', 'None', 'True', 'and', 'as', 'assert', 'async', 'await', 'break', 'class', 'continue', 'def', 'del', 'elif', 'else', 'except', 'finally', 'for', 'from', 'global', 'if', 'import', 'in', 'is', 'lambda', 'nonlocal', 'not', 'or', 'pass', 'raise', 'return', 'try', 'while', 'with', 'yield']  \n",
      "35\n"
     ]
    }
   ],
   "source": [
    "import keyword\n",
    "print(keyword.kwlist,\" \")\n",
    "print(len(keyword.kwlist))"
   ]
  },
  {
   "cell_type": "markdown",
   "metadata": {},
   "source": [
    "## Inbuilt Functions"
   ]
  },
  {
   "cell_type": "code",
   "execution_count": 5,
   "metadata": {},
   "outputs": [
    {
     "name": "stdout",
     "output_type": "stream",
     "text": [
      "<class 'int'>\n",
      "<class 'str'>\n",
      "equal\n",
      "140736217303768 140736217303768\n"
     ]
    }
   ],
   "source": [
    "#1. type() to get the type of variable\n",
    "a=10\n",
    "b='jagannath'\n",
    "print(type(a))\n",
    "print(type(b))\n",
    "#2. id() to get the address of object\n",
    "a=10\n",
    "b=10\n",
    "if(id(a)==id(b)):\n",
    "    print(\"equal\")\n",
    "else:\n",
    "    print(\"not eqaul\")\n",
    "print(id(a),id(b))\n",
    "#3 print() to display a value\n",
    "print(\"Hello World!\")\n",
    "# in  pyton everythig is object"
   ]
  },
  {
   "cell_type": "markdown",
   "metadata": {},
   "source": [
    "## Data Types"
   ]
  },
  {
   "cell_type": "code",
   "execution_count": 38,
   "metadata": {},
   "outputs": [
    {
     "name": "stdout",
     "output_type": "stream",
     "text": [
      "True\n",
      "None\n",
      "3\n",
      "9\n",
      "17\n",
      "1.234\n",
      "1200.0\n",
      "(3+5j)\n",
      "3j\n",
      "<class 'complex'>\n",
      "0.0 3.0\n",
      "2\n",
      "0\n",
      "yes\n",
      "yes\n",
      "urga\n",
      "urga\n",
      "durg\n",
      "durga\n",
      "durg\n",
      "a\n",
      "agrud\n",
      "5\n"
     ]
    }
   ],
   "source": [
    "\"\"\" \n",
    "    Funda mental data types\n",
    "    int\n",
    "    float\n",
    "    complex\n",
    "    bool\n",
    "    str\n",
    "\"\"\"\n",
    "#1. int\n",
    "\"\"\"\n",
    "We can use int values in the following ways\n",
    "1.Decimal\n",
    "2.Binary\n",
    "3.Octal\n",
    "4.Hexa decimal form\n",
    "\"\"\"\n",
    "#1.1 Decimal- Default\n",
    "a=10\n",
    "b\n",
    "print(b)\n",
    "def m1():\n",
    "    b=10\n",
    "print(m1())\n",
    "#1.2 Binary base2\n",
    "a=0B11\n",
    "print(a)\n",
    "#1.3 Octal base8\n",
    "a=0O11\n",
    "print(a)\n",
    "#1.3 Hexa decimal\n",
    "a=0X11\n",
    "print(a)\n",
    "# PVM always provide values only in decimal form\n",
    "\n",
    "# 2. float \n",
    "f=1.234\n",
    "print(f)\n",
    "f=1.2e3\n",
    "print(f)\n",
    "\n",
    "#3. complex\n",
    "a=3+5j\n",
    "print(a)\n",
    "a=3j\n",
    "print(a)\n",
    "print(type(a))\n",
    "print(a.real,a.imag)\n",
    "\n",
    "#4.bool Type\n",
    "b=True\n",
    "type(b)\n",
    "print(True+True)\n",
    "print(True*False)\n",
    "\n",
    "#str type - immutable\n",
    "s1='durga'\n",
    "s2=\"durga\"\n",
    "if(s1==s2):    #content comparision\n",
    "    print(\"yes\")\n",
    "if(s1 is s2):   # address comparision\n",
    "    print(\"yes\")\n",
    "\n",
    "## slicing\n",
    "s='durga'\n",
    "print(s[1:40])\n",
    "print(s[1:])\n",
    "print(s[:4])\n",
    "print(s[:])\n",
    "print(s[:-1])\n",
    "print(s[-1:])\n",
    "print(s[::-1])\n",
    "print(len(s))"
   ]
  },
  {
   "cell_type": "markdown",
   "metadata": {},
   "source": [
    "# Base Conversion"
   ]
  },
  {
   "cell_type": "code",
   "execution_count": 10,
   "metadata": {},
   "outputs": [
    {
     "name": "stdout",
     "output_type": "stream",
     "text": [
      "0b1111\n",
      "0b1001\n",
      "0b10000\n"
     ]
    }
   ],
   "source": [
    "#1.bin()\n",
    "print(bin(15))\n",
    "print(bin(0o11))\n",
    "print(bin(0X10))\n",
    "\n",
    "#2.oct()\n",
    "oct(10)\n",
    "#3.hex()\n",
    "hex(100)"
   ]
  },
  {
   "cell_type": "markdown",
   "metadata": {},
   "source": [
    "## Type casting"
   ]
  },
  {
   "cell_type": "code",
   "execution_count": 34,
   "metadata": {},
   "outputs": [
    {
     "name": "stdout",
     "output_type": "stream",
     "text": [
      "1\n",
      "1\n",
      "1\n",
      "100\n",
      "10.0\n",
      "1.0\n",
      "10.5\n",
      "(10+0j)\n",
      "(10+0j)\n",
      "(10+2j)\n",
      "(1+0j)\n",
      "False\n",
      "True\n",
      "False\n",
      "True\n",
      "False\n",
      "True\n",
      "False\n",
      "10\n",
      "10.5\n"
     ]
    }
   ],
   "source": [
    "#1.int()\n",
    "print(int(1.4))\n",
    "print(int(1.5))\n",
    "print(int(1.9))\n",
    "print(int(\"100\"))\n",
    "\n",
    "#2.float()\n",
    "print(float(10))\n",
    "print(float(True))\n",
    "# print(int(\"10.5\"))\n",
    "print(float(\"10.5\"))\n",
    "\n",
    "#3. complex()\n",
    "print(complex(10))\n",
    "print(complex(\"10\"))\n",
    "print(complex(10,2))\n",
    "print(complex(True,False))\n",
    "\n",
    "#4. bool\n",
    "print(bool(0))\n",
    "print(bool(-1))\n",
    "print(bool(\"\"))\n",
    "print(bool(\"nit\"))\n",
    "print(bool(0.0))\n",
    "print(bool(0.5))\n",
    "print(bool(0+0j))\n",
    "\n",
    "#5 str()\n",
    "print(str(10))\n",
    "print(str(10.5))"
   ]
  },
  {
   "cell_type": "code",
   "execution_count": 41,
   "metadata": {},
   "outputs": [
    {
     "name": "stdout",
     "output_type": "stream",
     "text": [
      "18\n",
      "value of a is 5, b is 6, c is 7\n"
     ]
    }
   ],
   "source": [
    "a,b,c=[int(x) for x in input(\"Enter 3 number\").split(',')]\n",
    "print(a+b+c)\n",
    "print(\"value of a is %d, b is %d, c is %d\"%(a,b,c))"
   ]
  },
  {
   "cell_type": "markdown",
   "metadata": {},
   "source": [
    "## Command line arguments"
   ]
  },
  {
   "cell_type": "code",
   "execution_count": null,
   "metadata": {},
   "outputs": [],
   "source": [
    "from sys import argv\n",
    "print(len(argv))\n",
    "print(argv[0],argv[1])"
   ]
  },
  {
   "cell_type": "markdown",
   "metadata": {},
   "source": [
    "# List"
   ]
  },
  {
   "cell_type": "code",
   "execution_count": 47,
   "metadata": {},
   "outputs": [
    {
     "name": "stdout",
     "output_type": "stream",
     "text": [
      "6\n",
      "2\n",
      "[5, 4, 3, 2, 2, 1]\n",
      "[1, 2, 2, 3, 4, 5]\n",
      "[5, 4, 3, 2, 2, 1]\n",
      "[1, 2, 3, 4, 20]\n",
      "[10, 20, 30, 40, 50]\n",
      "[10, 20, 30, 40, 50, 60]\n",
      "[10, 20, 30]\n",
      "[]\n"
     ]
    }
   ],
   "source": [
    "l=[1,2,2,3,4,5]\n",
    "print(len(l))\n",
    "print(l.count(2))\n",
    "l.reverse()\n",
    "print(l)\n",
    "l.sort()\n",
    "print(l)\n",
    "l.sort(reverse=True)\n",
    "print(l)\n",
    "\n",
    "# Cloning of List\n",
    "l=[1,2,3,4]\n",
    "k=l\n",
    "k.append(20)\n",
    "print(l)\n",
    "\n",
    "#1. By using slice operator\n",
    "x=[10,20,30,40,50]\n",
    "y=x[:]\n",
    "y.append(60)\n",
    "print(x)\n",
    "print(y)\n",
    "\n",
    "#2 By using copy() function\n",
    "x=[10,20,30]\n",
    "y=x.copy()\n",
    "y.append(77)\n",
    "print(x)\n",
    "x.clear()\n",
    "print(x)"
   ]
  },
  {
   "cell_type": "markdown",
   "metadata": {},
   "source": [
    "# Tuple"
   ]
  },
  {
   "cell_type": "code",
   "execution_count": 57,
   "metadata": {},
   "outputs": [
    {
     "name": "stdout",
     "output_type": "stream",
     "text": [
      "(10, 20, 30)\n",
      "(10, 20, 30)\n",
      "(10, 20, 30, 20)\n",
      "[10, 20, 40]\n",
      "10\n",
      "(10, 20, 30)\n",
      "10 20 30\n"
     ]
    }
   ],
   "source": [
    "t=10,20,30\n",
    "print(t)\n",
    "l=[10,20,30]\n",
    "t=tuple(l)\n",
    "print(t)\n",
    "# t.append(30)\n",
    "# print(t)\n",
    "t=list(t)\n",
    "t.append(20)\n",
    "t=tuple(t)\n",
    "print(t)\n",
    "t=40,20,10\n",
    "t1=sorted(t)\n",
    "print(t1)\n",
    "print(min(t1))\n",
    "\n",
    "# tuple packing and unpacking\n",
    "a,b,c=10,20,30\n",
    "t=a,b,c\n",
    "print(t)\n",
    "e,f,g=t\n",
    "print(e,f,g)"
   ]
  }
 ],
 "metadata": {
  "kernelspec": {
   "display_name": "Python 3",
   "language": "python",
   "name": "python3"
  },
  "language_info": {
   "codemirror_mode": {
    "name": "ipython",
    "version": 3
   },
   "file_extension": ".py",
   "mimetype": "text/x-python",
   "name": "python",
   "nbconvert_exporter": "python",
   "pygments_lexer": "ipython3",
   "version": "3.12.2"
  }
 },
 "nbformat": 4,
 "nbformat_minor": 2
}
